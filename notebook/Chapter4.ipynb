{
 "cells": [
  {
   "cell_type": "markdown",
   "metadata": {},
   "source": [
    "## Simplified two-dimensional visualization"
   ]
  },
  {
   "cell_type": "markdown",
   "metadata": {},
   "source": [
    "Visualizing data from the *dicta* in a simplified two-dimensional form is a useful first step toward understanding how stylometric analysis works in practice. For the purpose of the following discussion, the *dicta* will be divided into four samples:\n",
    "+ the hypothetical case statements (*dicta initiales* or *themata*) that introduce the thirty-six cases in Part II of the *Decretum*,\n",
    "+ the first-recension *dicta* from Parts I and II of the *Decretum*,\n",
    "+ the first- and second-recension *dicta* from *de Penitentia*, and\n",
    "+ the second-recension *dicta* from Parts I and II of the *Decretum*.\n",
    "\n",
    "In the following code, tables, and plots, these four samples will be labelled Gratian0, Gratian1, dePen, and Gratian2. The Gratian1 and Gratian2 samples, representing the first- and second-recension *dicta* from Parts I and II of the *Decretum*, were generated according to the procedure detailed in the previous section on corpus preparation."
   ]
  },
  {
   "cell_type": "markdown",
   "metadata": {},
   "source": [
    "**Including the dicta from de Penitentia distorts the results of the analysis, because out of the 10,081 words of the vulgate version of the de Pen. dicta, only 556 were added or changed between the first and second recensions of the Decretum.**"
   ]
  },
  {
   "cell_type": "code",
   "execution_count": 1,
   "metadata": {},
   "outputs": [],
   "source": [
    "import re\n",
    "\n",
    "def get_tokens(filename):\n",
    "    '''open text file and return list of tokens'''\n",
    "    # text = open(filename, 'r').read().lower()\n",
    "    f = open(filename, 'r') # open file\n",
    "    text = f.read() # read file\n",
    "    text = text.lower() # lower-case text\n",
    "    tokens = [word for word in re.split('\\W', text) if word != ''] # remove punctuation\n",
    "    return tokens"
   ]
  },
  {
   "cell_type": "code",
   "execution_count": 2,
   "metadata": {},
   "outputs": [
    {
     "data": {
      "text/html": [
       "<div>\n",
       "<style scoped>\n",
       "    .dataframe tbody tr th:only-of-type {\n",
       "        vertical-align: middle;\n",
       "    }\n",
       "\n",
       "    .dataframe tbody tr th {\n",
       "        vertical-align: top;\n",
       "    }\n",
       "\n",
       "    .dataframe thead th {\n",
       "        text-align: right;\n",
       "    }\n",
       "</style>\n",
       "<table border=\"1\" class=\"dataframe\">\n",
       "  <thead>\n",
       "    <tr style=\"text-align: right;\">\n",
       "      <th></th>\n",
       "      <th>Gratian0</th>\n",
       "      <th>Gratian1</th>\n",
       "      <th>dePen</th>\n",
       "      <th>Gratian2</th>\n",
       "    </tr>\n",
       "  </thead>\n",
       "  <tbody>\n",
       "    <tr>\n",
       "      <th>words</th>\n",
       "      <td>3605</td>\n",
       "      <td>56713</td>\n",
       "      <td>10081</td>\n",
       "      <td>14255</td>\n",
       "    </tr>\n",
       "  </tbody>\n",
       "</table>\n",
       "</div>"
      ],
      "text/plain": [
       "       Gratian0  Gratian1  dePen  Gratian2\n",
       "words      3605     56713  10081     14255"
      ]
     },
     "execution_count": 2,
     "metadata": {},
     "output_type": "execute_result"
    }
   ],
   "source": [
    "import pandas as pd\n",
    "\n",
    "def get_lengths(samples):\n",
    "    filenames = [sample + '.txt' for sample in samples]\n",
    "    lengths = {}\n",
    "    for i in range(len(samples)):\n",
    "       lengths[samples[i]] = len(get_tokens(filenames[i]))\n",
    "    return pd.DataFrame(lengths, index = ['words'])\n",
    "\n",
    "samples = ['Gratian0', 'Gratian1', 'dePen', 'Gratian2']\n",
    "lengths = get_lengths(samples)\n",
    "# lengths.to_markdown()\n",
    "lengths"
   ]
  },
  {
   "cell_type": "code",
   "execution_count": 3,
   "metadata": {},
   "outputs": [
    {
     "data": {
      "text/plain": [
       "['in', 'non', 'et', 'est']"
      ]
     },
     "execution_count": 3,
     "metadata": {},
     "output_type": "execute_result"
    }
   ],
   "source": [
    "def get_features(samples):\n",
    "    tokens = []\n",
    "    for sample in samples:\n",
    "        tokens += get_tokens(sample + '.txt')\n",
    "    types = list(set(tokens))\n",
    "    tmp = dict.fromkeys(types, 0)\n",
    "    for token in tokens: tmp[token] += 1\n",
    "    features = {\n",
    "        key: value for key, value in sorted(tmp.items(),\n",
    "        key = lambda item: (-item[1], item[0]))\n",
    "    }\n",
    "    return features\n",
    "\n",
    "# temporarily remove test case from samples\n",
    "# can't remove permanently until after get_counts()\n",
    "ignore = 'Gratian0'\n",
    "features = get_features([sample for sample in samples if sample != ignore])\n",
    "list(features.keys())[:4] # 4 most frequent words (MFWs)"
   ]
  },
  {
   "cell_type": "code",
   "execution_count": 4,
   "metadata": {},
   "outputs": [
    {
     "data": {
      "text/html": [
       "<div>\n",
       "<style scoped>\n",
       "    .dataframe tbody tr th:only-of-type {\n",
       "        vertical-align: middle;\n",
       "    }\n",
       "\n",
       "    .dataframe tbody tr th {\n",
       "        vertical-align: top;\n",
       "    }\n",
       "\n",
       "    .dataframe thead th {\n",
       "        text-align: right;\n",
       "    }\n",
       "</style>\n",
       "<table border=\"1\" class=\"dataframe\">\n",
       "  <thead>\n",
       "    <tr style=\"text-align: right;\">\n",
       "      <th></th>\n",
       "      <th>Gratian0</th>\n",
       "      <th>Gratian1</th>\n",
       "      <th>dePen</th>\n",
       "      <th>Gratian2</th>\n",
       "    </tr>\n",
       "  </thead>\n",
       "  <tbody>\n",
       "    <tr>\n",
       "      <th>in</th>\n",
       "      <td>74</td>\n",
       "      <td>1450</td>\n",
       "      <td>252</td>\n",
       "      <td>411</td>\n",
       "    </tr>\n",
       "    <tr>\n",
       "      <th>non</th>\n",
       "      <td>24</td>\n",
       "      <td>1360</td>\n",
       "      <td>270</td>\n",
       "      <td>306</td>\n",
       "    </tr>\n",
       "    <tr>\n",
       "      <th>et</th>\n",
       "      <td>70</td>\n",
       "      <td>1293</td>\n",
       "      <td>260</td>\n",
       "      <td>345</td>\n",
       "    </tr>\n",
       "    <tr>\n",
       "      <th>est</th>\n",
       "      <td>13</td>\n",
       "      <td>965</td>\n",
       "      <td>182</td>\n",
       "      <td>167</td>\n",
       "    </tr>\n",
       "  </tbody>\n",
       "</table>\n",
       "</div>"
      ],
      "text/plain": [
       "     Gratian0  Gratian1  dePen  Gratian2\n",
       "in         74      1450    252       411\n",
       "non        24      1360    270       306\n",
       "et         70      1293    260       345\n",
       "est        13       965    182       167"
      ]
     },
     "execution_count": 4,
     "metadata": {},
     "output_type": "execute_result"
    }
   ],
   "source": [
    "def get_counts(features, samples):\n",
    "    columns = {}\n",
    "    for sample in samples:\n",
    "        columns[sample] = []\n",
    "        tmp = get_features([sample])\n",
    "        for feature in features:\n",
    "            columns[sample].append(tmp.get(feature, 0))\n",
    "    return pd.DataFrame(columns, index = features)\n",
    "\n",
    "counts = get_counts(list(features.keys())[:4], samples)\n",
    "counts"
   ]
  },
  {
   "cell_type": "markdown",
   "metadata": {},
   "source": [
    "**Once we've gotten to this point, we've gathered all the preliminary information we need, and are ready to move the analysis into Pandas dataframes.**"
   ]
  },
  {
   "cell_type": "code",
   "execution_count": 5,
   "metadata": {},
   "outputs": [
    {
     "data": {
      "text/html": [
       "<div>\n",
       "<style scoped>\n",
       "    .dataframe tbody tr th:only-of-type {\n",
       "        vertical-align: middle;\n",
       "    }\n",
       "\n",
       "    .dataframe tbody tr th {\n",
       "        vertical-align: top;\n",
       "    }\n",
       "\n",
       "    .dataframe thead th {\n",
       "        text-align: right;\n",
       "    }\n",
       "</style>\n",
       "<table border=\"1\" class=\"dataframe\">\n",
       "  <thead>\n",
       "    <tr style=\"text-align: right;\">\n",
       "      <th></th>\n",
       "      <th>Gratian0</th>\n",
       "      <th>Gratian1</th>\n",
       "      <th>dePen</th>\n",
       "      <th>Gratian2</th>\n",
       "    </tr>\n",
       "  </thead>\n",
       "  <tbody>\n",
       "    <tr>\n",
       "      <th>in</th>\n",
       "      <td>20.527046</td>\n",
       "      <td>25.567330</td>\n",
       "      <td>24.997520</td>\n",
       "      <td>28.831989</td>\n",
       "    </tr>\n",
       "    <tr>\n",
       "      <th>non</th>\n",
       "      <td>6.657420</td>\n",
       "      <td>23.980393</td>\n",
       "      <td>26.783057</td>\n",
       "      <td>21.466152</td>\n",
       "    </tr>\n",
       "    <tr>\n",
       "      <th>et</th>\n",
       "      <td>19.417476</td>\n",
       "      <td>22.799006</td>\n",
       "      <td>25.791092</td>\n",
       "      <td>24.202034</td>\n",
       "    </tr>\n",
       "    <tr>\n",
       "      <th>est</th>\n",
       "      <td>3.606103</td>\n",
       "      <td>17.015499</td>\n",
       "      <td>18.053765</td>\n",
       "      <td>11.715188</td>\n",
       "    </tr>\n",
       "  </tbody>\n",
       "</table>\n",
       "</div>"
      ],
      "text/plain": [
       "      Gratian0   Gratian1      dePen   Gratian2\n",
       "in   20.527046  25.567330  24.997520  28.831989\n",
       "non   6.657420  23.980393  26.783057  21.466152\n",
       "et   19.417476  22.799006  25.791092  24.202034\n",
       "est   3.606103  17.015499  18.053765  11.715188"
      ]
     },
     "execution_count": 5,
     "metadata": {},
     "output_type": "execute_result"
    }
   ],
   "source": [
    "frequencies = (counts / lengths.values) * 1000\n",
    "frequencies"
   ]
  },
  {
   "cell_type": "markdown",
   "metadata": {},
   "source": [
    "*In* is the most frequently occurring word in the *dicta*. There are 1,450 occurrences of *in* out of 56,713 words in the first-recension *dicta* (25.56 occurrences per 1,000 words), 252 occurrences of *in* out of 10,081 words in the *dicta* from *de Penitentia* (25.00 per 1,000), and 411 occurrences of *in* out of 14,255 words in the second-recension *dicta* (28.83 per 1,000). It is more convenient to characterize word frequencies in units of occurrences per 1,000 words than percentage, since at that scale most of the values we are concerned with are greater than 1.0. The overall mean frequency of occurrence of *in* for the combined *dicta* from the first recension, *de Penitentia*, and the second recension is therefore 2,113 occurrences out of 81,049 words or 26.07 per 1,000. It is common, however, for authorship attribution algorithms to use the mean of the mean frequencies of occurrence for each of the samples rather than the overall mean frequency of occurrence in the corpus made up of all of the samples. The motivation for using the mean of means for the individual samples rather than the overall mean frequency of occurrence is to ensure that largest sample does not dominate the result. The value for the mean frequency of occurrence of *in* that will be required at subsequent stages of this demonstration, then, is the mean of 25.56, 25.00, and 28.83, or 26.47 occurrences per 1,000."
   ]
  },
  {
   "cell_type": "markdown",
   "metadata": {},
   "source": [
    "*Non* is the second most frequently occurring word in the *dicta*. There are 1,360 occurrences of *non* out of 56,713 words in the first-recension *dicta* (23.98 occurrences per 1,000 words), 270 occurrences of *non* out of 10,081 words in the *dicta* from *de Penitentia* (26.78 per 1,000), and 306 occurrences of *non* out of 14,255 words in the second-recension *dicta* (21.47 per 1,000). The overall mean frequency of occurrence of *non* for the combined *dicta* from the first recension, *de Penitentia*, and the second recension is therefore 1,936 occurrences out of 81,049 words or 23.98 per 1,000. The mean of the mean frequencies of occurrence of *non* for each of the samples is the mean of 23.98, 26.78, and 21.47, or 24.08 occurrences per 1,000."
   ]
  },
  {
   "cell_type": "markdown",
   "metadata": {},
   "source": [
    "This is the point where we need to temporarily drop the Gratian0 column. We're only interested at this point in calculating the mean and sample standard deviation of the values in the two columns we're comparing the candidate to: Gratian1 and Gratian2."
   ]
  },
  {
   "cell_type": "code",
   "execution_count": 6,
   "metadata": {},
   "outputs": [
    {
     "data": {
      "text/html": [
       "<div>\n",
       "<style scoped>\n",
       "    .dataframe tbody tr th:only-of-type {\n",
       "        vertical-align: middle;\n",
       "    }\n",
       "\n",
       "    .dataframe tbody tr th {\n",
       "        vertical-align: top;\n",
       "    }\n",
       "\n",
       "    .dataframe thead th {\n",
       "        text-align: right;\n",
       "    }\n",
       "</style>\n",
       "<table border=\"1\" class=\"dataframe\">\n",
       "  <thead>\n",
       "    <tr style=\"text-align: right;\">\n",
       "      <th></th>\n",
       "      <th>Gratian1</th>\n",
       "      <th>dePen</th>\n",
       "      <th>Gratian2</th>\n",
       "    </tr>\n",
       "  </thead>\n",
       "  <tbody>\n",
       "    <tr>\n",
       "      <th>in</th>\n",
       "      <td>25.567330</td>\n",
       "      <td>24.997520</td>\n",
       "      <td>28.831989</td>\n",
       "    </tr>\n",
       "    <tr>\n",
       "      <th>non</th>\n",
       "      <td>23.980393</td>\n",
       "      <td>26.783057</td>\n",
       "      <td>21.466152</td>\n",
       "    </tr>\n",
       "    <tr>\n",
       "      <th>et</th>\n",
       "      <td>22.799006</td>\n",
       "      <td>25.791092</td>\n",
       "      <td>24.202034</td>\n",
       "    </tr>\n",
       "    <tr>\n",
       "      <th>est</th>\n",
       "      <td>17.015499</td>\n",
       "      <td>18.053765</td>\n",
       "      <td>11.715188</td>\n",
       "    </tr>\n",
       "  </tbody>\n",
       "</table>\n",
       "</div>"
      ],
      "text/plain": [
       "      Gratian1      dePen   Gratian2\n",
       "in   25.567330  24.997520  28.831989\n",
       "non  23.980393  26.783057  21.466152\n",
       "et   22.799006  25.791092  24.202034\n",
       "est  17.015499  18.053765  11.715188"
      ]
     },
     "execution_count": 6,
     "metadata": {},
     "output_type": "execute_result"
    }
   ],
   "source": [
    "samples.remove(ignore)\n",
    "selected = frequencies[samples]\n",
    "selected"
   ]
  },
  {
   "cell_type": "code",
   "execution_count": 7,
   "metadata": {},
   "outputs": [
    {
     "data": {
      "text/html": [
       "<div>\n",
       "<style scoped>\n",
       "    .dataframe tbody tr th:only-of-type {\n",
       "        vertical-align: middle;\n",
       "    }\n",
       "\n",
       "    .dataframe tbody tr th {\n",
       "        vertical-align: top;\n",
       "    }\n",
       "\n",
       "    .dataframe thead th {\n",
       "        text-align: right;\n",
       "    }\n",
       "</style>\n",
       "<table border=\"1\" class=\"dataframe\">\n",
       "  <thead>\n",
       "    <tr style=\"text-align: right;\">\n",
       "      <th></th>\n",
       "      <th>mean</th>\n",
       "    </tr>\n",
       "  </thead>\n",
       "  <tbody>\n",
       "    <tr>\n",
       "      <th>in</th>\n",
       "      <td>26.465613</td>\n",
       "    </tr>\n",
       "    <tr>\n",
       "      <th>non</th>\n",
       "      <td>24.076534</td>\n",
       "    </tr>\n",
       "    <tr>\n",
       "      <th>et</th>\n",
       "      <td>24.264044</td>\n",
       "    </tr>\n",
       "    <tr>\n",
       "      <th>est</th>\n",
       "      <td>15.594817</td>\n",
       "    </tr>\n",
       "  </tbody>\n",
       "</table>\n",
       "</div>"
      ],
      "text/plain": [
       "          mean\n",
       "in   26.465613\n",
       "non  24.076534\n",
       "et   24.264044\n",
       "est  15.594817"
      ]
     },
     "execution_count": 7,
     "metadata": {},
     "output_type": "execute_result"
    }
   ],
   "source": [
    "means = selected.mean(axis = 1).to_frame('mean')\n",
    "means"
   ]
  },
  {
   "cell_type": "markdown",
   "metadata": {},
   "source": [
    "We can graph the number of occurrences of *in* and *non* per 1,000 words in the *dicta*, with the frequency of *in* plotted along the horizontal x-axis, and the frequency of *non* plotted along the vertical y-axis, to produce a simplified visualization of the total variation between the four samples. Means are provided for context: the vertical dashed line represents the mean for the horizontal (*in*) axis, and the horizontal dashed line represents the mean for the vertical (*non*) axis."
   ]
  },
  {
   "cell_type": "code",
   "execution_count": 8,
   "metadata": {},
   "outputs": [
    {
     "data": {
      "image/png": "[encoded data removed]",
      "text/plain": [
       "<Figure size 432x288 with 1 Axes>"
      ]
     },
     "metadata": {
      "needs_background": "light"
     },
     "output_type": "display_data"
    }
   ],
   "source": [
    "import matplotlib.pyplot as pp\n",
    "\n",
    "x_values = frequencies[samples].values[0].tolist()\n",
    "y_values = frequencies[samples].values[1].tolist()\n",
    "pp.scatter(x_values, y_values)\n",
    "pp.axhline(means['mean'].tolist()[1], linestyle='dashed')\n",
    "pp.axvline(means['mean'].tolist()[0], linestyle='dashed')\n",
    "pp.xlabel(f'frequency of occurrence of \\'{frequencies.index.values[0]}\\' per 1,000 words')\n",
    "pp.ylabel(f'frequency of occurrence of \\'{frequencies.index.values[1]}\\' per 1,000 words')\n",
    "labels = list(frequencies[samples].columns)\n",
    "for i in range(len(labels)):\n",
    "    pp.annotate(\n",
    "        f'{labels[i]} ({x_values[i]:.4f}, {y_values[i]:.4f})',\n",
    "        (x_values[i], y_values[i]),\n",
    "        textcoords=\"offset points\",\n",
    "        xytext=(10,0),\n",
    "        ha='left'\n",
    "    )\n",
    "pp.title('(frequency view)')\n",
    "pp.show()"
   ]
  },
  {
   "cell_type": "markdown",
   "metadata": {},
   "source": [
    "Figure 0a introduces several conventions common to two-dimensional graphical representations of word frequency data that readers will encounter repeatedly throughout this chapter. The feature (in this case the frequency of occurrence of the word *in*) that explains more of the variation between the samples is plotted along the horizontal x-axis, while the feature (in this case the frequency of occurrence of the word *non*) that explains less of the variation between the samples is plotted along the vertical y-axis. Although this plot, produced by the Matplotlib Python two-dimensional plotting library, is rectangular and the axes are approximately to scale, most of the figures in this chapter were generated using stylo, an R package for stylometric analysis, which outputs square plots. Regardless of appearance, readers should bear in mind that the area plotted is wider than it is tall, that is, that it always displays greater variation between samples horizontally along the x-axis than it does vertically along the y-axis."
   ]
  },
  {
   "cell_type": "markdown",
   "metadata": {},
   "source": [
    "Figure 0a plots the values for the first-recension *dicta*, the second-recension *dicta*, the *dicta* from *de Penitentia*, the second-recension *dicta*, and (labelled Gratian1, dePen, and Gratian2 respectively), as well as the means (indicated by the dashed lines), for the frequencies of *in* and *non* per 1,000 words. It is more statistically meaningful, however, to measure and plot the differences between values and means in units of standard deviations rather than frequency per 1,000 words. The difference of a value from the mean divided by standard deviation is referred to as the value's z-score. A value that has a difference of one standard deviation from the mean is said to have a z-score of 1.0 or -1.0 depending on whether the value is greater or lesser than the mean. The formula used to calculate the sample standard deviation is:\n",
    "\n",
    "$s=\\sqrt{\\frac{1}{N - 1}\\sum_{i=1}^N(x_i-\\bar{x})^2}$\n",
    "\n",
    "![Standard Deviation](stdev.jpg)\n",
    "\n",
    "The formula is slightly daunting notationally, but it is not difficult to use it to calculate the desired results. **Show every step involved in calculating the sample standard deviation for *in* as an example. Make it clear that $\\bar{x}$ is the mean of the means! Calculating the sample standard deviation for *non* is left as an exercise for the reader.** First, we calculate the squared deviations from the mean for the frequency of *in* in the first-recension *dicta*:\n",
    "\n",
    "$(x_1-\\bar{x})^2 = (25.5673 - 26.4656)^2 = (-0.8983)^2 = 0.8069$,\n",
    "\n",
    "for the frequency of *in* in the *dicta* from *de Penitentia*:\n",
    "\n",
    "$(x_2-\\bar{x})^2 = (24.9975 - 26.4656)^2 = (-1.4681)^2 = 2.1553$,\n",
    "\n",
    "and for the frequency of *in* in the second-recension *dicta*:\n",
    "\n",
    "$(x_3-\\bar{x})^2 = (28.8320 - 26.4656)^2 = (2.3664)^2 = 5.5997$.\n",
    "\n",
    "We then sum (as indicated by $\\sum$) the three squared deviations from the mean, divide the sum by their number minus one ($N = 3$), and take the square root of the quotient:\n",
    "\n",
    "$s =\n",
    "\\sqrt{\\frac{1}{2}(0.8069 + 2.1553 + 5.5997)} =\n",
    "\\sqrt{\\frac{1}{2}(8.5619)} =\n",
    "\\sqrt{4.2810} =\n",
    "2.0690$\n",
    "\n",
    "The units of s are the same as those used to calculate the mean, in this case, the frequency of occurrence of a word per 1,000 words."
   ]
  },
  {
   "cell_type": "code",
   "execution_count": 9,
   "metadata": {},
   "outputs": [
    {
     "data": {
      "text/html": [
       "<div>\n",
       "<style scoped>\n",
       "    .dataframe tbody tr th:only-of-type {\n",
       "        vertical-align: middle;\n",
       "    }\n",
       "\n",
       "    .dataframe tbody tr th {\n",
       "        vertical-align: top;\n",
       "    }\n",
       "\n",
       "    .dataframe thead th {\n",
       "        text-align: right;\n",
       "    }\n",
       "</style>\n",
       "<table border=\"1\" class=\"dataframe\">\n",
       "  <thead>\n",
       "    <tr style=\"text-align: right;\">\n",
       "      <th></th>\n",
       "      <th>std</th>\n",
       "    </tr>\n",
       "  </thead>\n",
       "  <tbody>\n",
       "    <tr>\n",
       "      <th>in</th>\n",
       "      <td>2.069051</td>\n",
       "    </tr>\n",
       "    <tr>\n",
       "      <th>non</th>\n",
       "      <td>2.659756</td>\n",
       "    </tr>\n",
       "    <tr>\n",
       "      <th>et</th>\n",
       "      <td>1.497007</td>\n",
       "    </tr>\n",
       "    <tr>\n",
       "      <th>est</th>\n",
       "      <td>3.399727</td>\n",
       "    </tr>\n",
       "  </tbody>\n",
       "</table>\n",
       "</div>"
      ],
      "text/plain": [
       "          std\n",
       "in   2.069051\n",
       "non  2.659756\n",
       "et   1.497007\n",
       "est  3.399727"
      ]
     },
     "execution_count": 9,
     "metadata": {},
     "output_type": "execute_result"
    }
   ],
   "source": [
    "standard_deviations = selected.std(axis = 1).to_frame('std')\n",
    "standard_deviations"
   ]
  },
  {
   "cell_type": "markdown",
   "metadata": {},
   "source": [
    "**\\[Calculating the sample standard deviations for the frequencies of occurrence of *in* and *non* per 1,000 words makes it possible to revise the initial version of Figure 0a. Although the final version of Figure 0a (below) adds no new information, reframing the dimensions of the plot to twice the standard deviation from the mean along both axes improves its graphical layout and readability.\\]**"
   ]
  },
  {
   "cell_type": "code",
   "execution_count": 10,
   "metadata": {},
   "outputs": [
    {
     "data": {
      "image/png": "[encoded data removed]",
      "text/plain": [
       "<Figure size 432x288 with 1 Axes>"
      ]
     },
     "metadata": {
      "needs_background": "light"
     },
     "output_type": "display_data"
    }
   ],
   "source": [
    "x_values = selected.values[0].tolist()\n",
    "y_values = selected.values[1].tolist()\n",
    "pp.scatter(x_values, y_values)\n",
    "pp.axis([means['mean'].tolist()[0] - 2 * standard_deviations['std'].tolist()[0],\n",
    "        means['mean'].tolist()[0] + 2 * standard_deviations['std'].tolist()[0],\n",
    "        means['mean'].tolist()[1] - 2 * standard_deviations['std'].tolist()[1],\n",
    "        means['mean'].tolist()[1] + 2 * standard_deviations['std'].tolist()[1]])\n",
    "pp.axhline(means['mean'].tolist()[1], linestyle='dashed')\n",
    "pp.axvline(means['mean'].tolist()[0], linestyle='dashed')\n",
    "pp.xlabel(f'frequency of occurrence of \\'{selected.index.values[0]}\\' per 1,000 words')\n",
    "pp.ylabel(f'frequency of occurrence of \\'{selected.index.values[1]}\\' per 1,000 words')\n",
    "labels = list(selected.columns)\n",
    "for i in range(len(labels)):\n",
    "    pp.annotate(\n",
    "        f'{labels[i]} ({x_values[i]:.4f}, {y_values[i]:.4f})',\n",
    "        (x_values[i], y_values[i]),\n",
    "        textcoords=\"offset points\",\n",
    "        xytext=(10,0),\n",
    "        ha='left'\n",
    "    )\n",
    "pp.title('(frequency view)')\n",
    "# pp.savefig('./Figure_0a') # PNG\n",
    "pp.show()"
   ]
  },
  {
   "cell_type": "markdown",
   "metadata": {},
   "source": [
    "**Again, remember that the means and standard deviations have been computed from the values in the Gratian1 and Gratian2 columns *only*!**"
   ]
  },
  {
   "cell_type": "markdown",
   "metadata": {},
   "source": [
    "The formula used to calculate the z-score is:\n",
    "\n",
    "$z=\\frac{x - \\bar{x}}{s}$\n",
    "\n",
    "![z-score](z-score.jpg)\n",
    "\n",
    "For the frequency of *in* in the first-recension *dicta*:\n",
    "\n",
    "$z =\n",
    "\\frac{x - \\bar{x}}{s} =\n",
    "\\frac{25.567330 - 26.465613}{2.069051} =\n",
    "\\frac{-0.898283}{2.069051} =\n",
    "-0.434152$,\n",
    "\n",
    "for the frequency of *in* in the *dicta* from *de Penitentia*:\n",
    "\n",
    "$z =\n",
    "\\frac{x - \\bar{x}}{s} =\n",
    "\\frac{24.997520 - 26.465613}{2.069051} =\n",
    "\\frac{-1.468093}{2.069051} =\n",
    "-0.709549$,\n",
    "\n",
    "and for the frequency of *in* in the second-recension *dicta*:\n",
    "\n",
    "$z =\n",
    "\\frac{x - \\bar{x}}{s} =\n",
    "\\frac{28.831989 - 26.465613}{2.069051} =\n",
    "\\frac{2.366376}{2.069051} =\n",
    "1.143701$.\n",
    "\n",
    "Labels on the axes of the plot refer to standard deviations (values\n",
    "of z) away from the mean (represented by the dashed lines)."
   ]
  },
  {
   "cell_type": "code",
   "execution_count": 11,
   "metadata": {},
   "outputs": [
    {
     "data": {
      "text/html": [
       "<div>\n",
       "<style scoped>\n",
       "    .dataframe tbody tr th:only-of-type {\n",
       "        vertical-align: middle;\n",
       "    }\n",
       "\n",
       "    .dataframe tbody tr th {\n",
       "        vertical-align: top;\n",
       "    }\n",
       "\n",
       "    .dataframe thead th {\n",
       "        text-align: right;\n",
       "    }\n",
       "</style>\n",
       "<table border=\"1\" class=\"dataframe\">\n",
       "  <thead>\n",
       "    <tr style=\"text-align: right;\">\n",
       "      <th></th>\n",
       "      <th>Gratian0</th>\n",
       "      <th>Gratian1</th>\n",
       "      <th>dePen</th>\n",
       "      <th>Gratian2</th>\n",
       "    </tr>\n",
       "  </thead>\n",
       "  <tbody>\n",
       "    <tr>\n",
       "      <th>in</th>\n",
       "      <td>-2.870189</td>\n",
       "      <td>-0.434152</td>\n",
       "      <td>-0.709549</td>\n",
       "      <td>1.143701</td>\n",
       "    </tr>\n",
       "    <tr>\n",
       "      <th>non</th>\n",
       "      <td>-6.549140</td>\n",
       "      <td>-0.036147</td>\n",
       "      <td>1.017583</td>\n",
       "      <td>-0.981437</td>\n",
       "    </tr>\n",
       "    <tr>\n",
       "      <th>et</th>\n",
       "      <td>-3.237506</td>\n",
       "      <td>-0.978645</td>\n",
       "      <td>1.020068</td>\n",
       "      <td>-0.041422</td>\n",
       "    </tr>\n",
       "    <tr>\n",
       "      <th>est</th>\n",
       "      <td>-3.526376</td>\n",
       "      <td>0.417881</td>\n",
       "      <td>0.723278</td>\n",
       "      <td>-1.141159</td>\n",
       "    </tr>\n",
       "  </tbody>\n",
       "</table>\n",
       "</div>"
      ],
      "text/plain": [
       "     Gratian0  Gratian1     dePen  Gratian2\n",
       "in  -2.870189 -0.434152 -0.709549  1.143701\n",
       "non -6.549140 -0.036147  1.017583 -0.981437\n",
       "et  -3.237506 -0.978645  1.020068 -0.041422\n",
       "est -3.526376  0.417881  0.723278 -1.141159"
      ]
     },
     "execution_count": 11,
     "metadata": {},
     "output_type": "execute_result"
    }
   ],
   "source": [
    "z_scores = (frequencies - means.values) / standard_deviations.values\n",
    "z_scores"
   ]
  },
  {
   "cell_type": "code",
   "execution_count": 12,
   "metadata": {},
   "outputs": [
    {
     "data": {
      "image/png": "[encoded data removed]",
      "text/plain": [
       "<Figure size 432x288 with 1 Axes>"
      ]
     },
     "metadata": {
      "needs_background": "light"
     },
     "output_type": "display_data"
    }
   ],
   "source": [
    "x_values = z_scores[samples].values[0].tolist()\n",
    "y_values = z_scores[samples].values[1].tolist()\n",
    "pp.scatter(x_values, y_values)\n",
    "pp.axis([-2, 2, -2, 2])\n",
    "pp.axhline(linestyle='dashed')\n",
    "pp.axvline(linestyle='dashed')\n",
    "pp.xlabel(f'\\'{z_scores.index.values[0]}\\'')\n",
    "pp.ylabel(f'\\'{z_scores.index.values[1]}\\'', rotation = 'horizontal')\n",
    "labels = list(z_scores[samples].columns)\n",
    "for i in range(len(labels)):\n",
    "    pp.annotate(\n",
    "        f'{labels[i]} ({x_values[i]:.4f}, {y_values[i]:.4f})',\n",
    "        (x_values[i], y_values[i]),\n",
    "        textcoords=\"offset points\",\n",
    "        xytext=(0,10),\n",
    "        ha='left'\n",
    "    )\n",
    "pp.title('(z-score view)')\n",
    "# pp.savefig('./Figure_0b') # PNG\n",
    "pp.show()"
   ]
  },
  {
   "cell_type": "markdown",
   "metadata": {},
   "source": [
    "## Burrows's Delta"
   ]
  },
  {
   "cell_type": "markdown",
   "metadata": {},
   "source": [
    "Attempts to attribute authorship are typically undertaken in scenarios where there is a large (enough) number of texts securely attributable to a known author, and a text, or at most a small number of texts, of unknown authorship. The attempt is then made to attribute the unknown text to the known author, or to rule out such an attribution. Take *The Federalist* as an example. There are numbers of *The Federalist* of disputed or unknown attribution, a small and well-defined number of candidates for authorship --- Hamilton, Jay, Madison --- to whom those numbers might be attributed, and securely attributed samples from each of the candidates, from the same work no less. Such an approach is not possible in the case of the *dicta* from Gratian’s *Decretum*. As the survey in Chapter 3 above indicated, near-contemporaries knew next to nothing about Gratian. Perhaps most notably, although Gratian was thought to have been a teacher, no one in the generation following made an unambiguous claim to have been his student. **There are no other writings securely, or even insecurely, attributed to him.**"
   ]
  },
  {
   "cell_type": "markdown",
   "metadata": {},
   "source": [
    "This does not mean that we are unable to apply the established techniques of authorship attribution to Gratian’s *dicta*. It simply means that we will have to adapt the tradtional assumptions behind the design of authorship attribution experiments for a different set of circumstances. Every authorship attribution experiment starts from an hypothesis (sometimes implicitly rather than explicitly stated) concerning authorship of the text under consideration. The hypothesis traditional in Gratian studies has been that the *dicta* from the *Decretum* --- defined as the hypothetical case statements (*themata*) plus the first- and second-recension *dicta* including the *dicta* from *de Pen*. --- are the work of a unitary author, the eponymous Gratian, **In this view, the *dicta* represent a complete, closed, corpus -- the total population of words attributable to the author Gratian.**"
   ]
  },
  {
   "cell_type": "markdown",
   "metadata": {},
   "source": [
    "Now, break the consolidated z-scores dateframe into two dataframes: one for the hypothetical case statements (*themata*), the other for the first- and second recension *dicta* (including the *dicta* from *de Pen*.) with which we want to compare the case statements."
   ]
  },
  {
   "cell_type": "code",
   "execution_count": 13,
   "metadata": {},
   "outputs": [
    {
     "data": {
      "text/html": [
       "<div>\n",
       "<style scoped>\n",
       "    .dataframe tbody tr th:only-of-type {\n",
       "        vertical-align: middle;\n",
       "    }\n",
       "\n",
       "    .dataframe tbody tr th {\n",
       "        vertical-align: top;\n",
       "    }\n",
       "\n",
       "    .dataframe thead th {\n",
       "        text-align: right;\n",
       "    }\n",
       "</style>\n",
       "<table border=\"1\" class=\"dataframe\">\n",
       "  <thead>\n",
       "    <tr style=\"text-align: right;\">\n",
       "      <th></th>\n",
       "      <th>Gratian0</th>\n",
       "    </tr>\n",
       "  </thead>\n",
       "  <tbody>\n",
       "    <tr>\n",
       "      <th>in</th>\n",
       "      <td>-2.870189</td>\n",
       "    </tr>\n",
       "    <tr>\n",
       "      <th>non</th>\n",
       "      <td>-6.549140</td>\n",
       "    </tr>\n",
       "    <tr>\n",
       "      <th>et</th>\n",
       "      <td>-3.237506</td>\n",
       "    </tr>\n",
       "    <tr>\n",
       "      <th>est</th>\n",
       "      <td>-3.526376</td>\n",
       "    </tr>\n",
       "  </tbody>\n",
       "</table>\n",
       "</div>"
      ],
      "text/plain": [
       "     Gratian0\n",
       "in  -2.870189\n",
       "non -6.549140\n",
       "et  -3.237506\n",
       "est -3.526376"
      ]
     },
     "execution_count": 13,
     "metadata": {},
     "output_type": "execute_result"
    }
   ],
   "source": [
    "test = z_scores[[ignore]]\n",
    "corpus = z_scores[samples]\n",
    "test"
   ]
  },
  {
   "cell_type": "markdown",
   "metadata": {},
   "source": [
    "$\\Delta_B = \\frac{1}{N}\\sum_{i = 1}^N|z_i(t) - z_i(c)|$\n",
    "\n",
    "![Burrows's Delta](Burrows.jpg)"
   ]
  },
  {
   "cell_type": "code",
   "execution_count": 14,
   "metadata": {},
   "outputs": [
    {
     "data": {
      "text/html": [
       "<div>\n",
       "<style scoped>\n",
       "    .dataframe tbody tr th:only-of-type {\n",
       "        vertical-align: middle;\n",
       "    }\n",
       "\n",
       "    .dataframe tbody tr th {\n",
       "        vertical-align: top;\n",
       "    }\n",
       "\n",
       "    .dataframe thead th {\n",
       "        text-align: right;\n",
       "    }\n",
       "</style>\n",
       "<table border=\"1\" class=\"dataframe\">\n",
       "  <thead>\n",
       "    <tr style=\"text-align: right;\">\n",
       "      <th></th>\n",
       "      <th>Gratian1</th>\n",
       "      <th>dePen</th>\n",
       "      <th>Gratian2</th>\n",
       "    </tr>\n",
       "  </thead>\n",
       "  <tbody>\n",
       "    <tr>\n",
       "      <th>in</th>\n",
       "      <td>2.436037</td>\n",
       "      <td>2.160640</td>\n",
       "      <td>4.013890</td>\n",
       "    </tr>\n",
       "    <tr>\n",
       "      <th>non</th>\n",
       "      <td>6.512993</td>\n",
       "      <td>7.566723</td>\n",
       "      <td>5.567703</td>\n",
       "    </tr>\n",
       "    <tr>\n",
       "      <th>et</th>\n",
       "      <td>2.258861</td>\n",
       "      <td>4.257573</td>\n",
       "      <td>3.196083</td>\n",
       "    </tr>\n",
       "    <tr>\n",
       "      <th>est</th>\n",
       "      <td>3.944257</td>\n",
       "      <td>4.249654</td>\n",
       "      <td>2.385217</td>\n",
       "    </tr>\n",
       "  </tbody>\n",
       "</table>\n",
       "</div>"
      ],
      "text/plain": [
       "     Gratian1     dePen  Gratian2\n",
       "in   2.436037  2.160640  4.013890\n",
       "non  6.512993  7.566723  5.567703\n",
       "et   2.258861  4.257573  3.196083\n",
       "est  3.944257  4.249654  2.385217"
      ]
     },
     "execution_count": 14,
     "metadata": {},
     "output_type": "execute_result"
    }
   ],
   "source": [
    "# tmp = (corpus - test.values).abs()\n",
    "tmp = (test.values - corpus).abs()\n",
    "tmp"
   ]
  },
  {
   "cell_type": "code",
   "execution_count": 15,
   "metadata": {},
   "outputs": [
    {
     "data": {
      "text/html": [
       "<div>\n",
       "<style scoped>\n",
       "    .dataframe tbody tr th:only-of-type {\n",
       "        vertical-align: middle;\n",
       "    }\n",
       "\n",
       "    .dataframe tbody tr th {\n",
       "        vertical-align: top;\n",
       "    }\n",
       "\n",
       "    .dataframe thead th {\n",
       "        text-align: right;\n",
       "    }\n",
       "</style>\n",
       "<table border=\"1\" class=\"dataframe\">\n",
       "  <thead>\n",
       "    <tr style=\"text-align: right;\">\n",
       "      <th></th>\n",
       "      <th>Gratian1</th>\n",
       "      <th>dePen</th>\n",
       "      <th>Gratian2</th>\n",
       "    </tr>\n",
       "  </thead>\n",
       "  <tbody>\n",
       "    <tr>\n",
       "      <th>Gratian0</th>\n",
       "      <td>3.788037</td>\n",
       "      <td>4.558648</td>\n",
       "      <td>3.790723</td>\n",
       "    </tr>\n",
       "  </tbody>\n",
       "</table>\n",
       "</div>"
      ],
      "text/plain": [
       "          Gratian1     dePen  Gratian2\n",
       "Gratian0  3.788037  4.558648  3.790723"
      ]
     },
     "execution_count": 15,
     "metadata": {},
     "output_type": "execute_result"
    }
   ],
   "source": [
    "# is there a better way to do this?\n",
    "deltas = (tmp.mean(axis = 0)).to_frame(ignore).transpose()\n",
    "deltas"
   ]
  },
  {
   "cell_type": "markdown",
   "metadata": {},
   "source": [
    "Calculating  Burrows's Delta ($\\Delta_B$) for Gratian0 with respect to Gratian1 and Gratian2 has limited value. The values of $\\Delta_B$ for Gratian0 with respect to both Gratian1 and Gratian2 are the same:\n",
    "\n",
    "||Gratian1|Gratian2|\n",
    "|-:|-:|-:|\n",
    "|**Gratian0**|5.120042|5.120042|\n",
    "\n",
    "This appears to be related to the problem of mean-of-means comparisons between two samples yielding standard deviations of 1.0 and -1.0.\n",
    "\n",
    "Adding a third comparison, to the first- and second-recension *dicta* in *de Pen*., makes for a better demo. **Explain and justify the fact that I am separating the first- and second-recension *dicta* in Gratian1 and Gratian2, but keeping them together in dePen.** The values of $\\Delta_B$ for Gratian0 with respect to Gratian1, dePen1, and Gratian2 are:\n",
    "\n",
    "||Gratian1|dePen|Gratian2|\n",
    "|-:|-:|-:|-:|\n",
    "|**Gratian0**|3.788037|4.558648|3.790723|\n",
    "\n",
    "To put those values of $\\Delta_B$ in context, if we substitute a 3917-word sample from the pseudo-Augustinian *De vera et falsa penitentia* in place of Gratian0, the values of $\\Delta_B$ for pseudo-Augustine with respect to Gratian1, dePen1, and Gratian2 are:\n",
    "\n",
    "||Gratian1|dePen|Gratian2|\n",
    "|-:|-:|-:|-:|\n",
    "|**ps-Aug**|2.691456|1.783147|3.477697|\n",
    "\n",
    "\\[Gratian quotes *De vera et falsa penitentia* extensively in *de Pen*., and the sample was created by concatenating *De Pen*. D.1 c.88, D.3 c.32, D3 c.42, D.3 c.45, D.3 c49, D.5 c.1, D.6 c.1, and D.7 c.6. (This has the incidental advantage of guaranteeing orthographic consistency with the other samples derived from the Friedberg edition.) As noted in Chapter 0 above, *De vera et falsa penitentia* is extremely unlikely to have been written by Gratian. Gratian and pseudo-Augustine had markedly different preferences in postpositive conjunctions: pseudo-Augustine strongly preferred *enim*, while Gratian preferred *autem*. John Wei, *Gratian the Theologian*, 84, describes Gratian's *Decretum* as \"the first work to draw on *De vera et falsa penitentia*. **wc -l reports 3918 words, tokenizer reports 3917. Verify that these are all the pseudo-Augustine quotes in *de Pen*. To reproduce March 2014 enim/autem boxplots, use oppose.**\\]\n",
    "\n",
    "In each case, the value of $\\Delta_B$ for pseudo-Augustine is *lower* than the corresponding value for Gratian0. Keep in mind that the lowest value of Burrows's Delta ($\\Delta_B$) indicates the most likely attribution of authorship. Therefore, pseudo-Augustine is *more* likely than the author of Gratian0 to be author of Gratian1, dePen, and Gratian2 (significantly more likely in the cases of Gratian1 and dePen).\n",
    "\n"
   ]
  }
 ],
 "metadata": {
  "kernelspec": {
   "display_name": "Python 3",
   "language": "python",
   "name": "python3"
  },
  "language_info": {
   "codemirror_mode": {
    "name": "ipython",
    "version": 3
   },
   "file_extension": ".py",
   "mimetype": "text/x-python",
   "name": "python",
   "nbconvert_exporter": "python",
   "pygments_lexer": "ipython3",
   "version": "3.8.2"
  }
 },
 "nbformat": 4,
 "nbformat_minor": 2
}
